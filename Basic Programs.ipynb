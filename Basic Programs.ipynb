{
 "cells": [
  {
   "cell_type": "markdown",
   "metadata": {},
   "source": [
    "### Write Python Programs to use various operators in Python"
   ]
  },
  {
   "cell_type": "code",
   "execution_count": 2,
   "metadata": {},
   "outputs": [
    {
     "name": "stdout",
     "output_type": "stream",
     "text": [
      "ARITHMETIC OPERATORS\n",
      "Addition(+) 15\n",
      "Subtraction(-) -5\n",
      "Multiplication(*) 50\n",
      "Division(/) 0.5\n",
      "Modulus(%) 5\n",
      "Exponent(**) 9765625\n",
      "FloorDivision(//) 0\n",
      "\n",
      "\n",
      "ASSIGNMENT OPERATORS\n",
      "assignment operator(=) 10\n",
      "\n",
      "\n",
      "COMPARISON OPEARTORS\n",
      "Equal to (==): False\n",
      "Not Equal to(!=) : True\n",
      "Less than (<): True\n",
      "Greater than (>): False\n",
      "Less than or equal to(<=) : True\n",
      "Greater than or equal to(>=) : False\n",
      "\n",
      "\n",
      "LOGICAL OPEARTORS\n",
      "and operator(and) 10\n",
      "or operator (or) 5\n",
      "not operator(not) False\n",
      "\n",
      "\n",
      "IDENTITY OPEARTORS\n",
      "is : False\n",
      "is not : True\n",
      "\n",
      "\n",
      "BITWISE OPEARTORS\n",
      "& : 0\n",
      "| : 15\n",
      "^ : 15\n",
      "~ : -11\n",
      "<< : 5120\n",
      ">> : 0\n"
     ]
    }
   ],
   "source": [
    "a=5\n",
    "b=10\n",
    "print(\"ARITHMETIC OPERATORS\")\n",
    "print(\"Addition(+)\",a+b)\n",
    "print(\"Subtraction(-)\",a-b)\n",
    "print(\"Multiplication(*)\",a*b)\n",
    "print(\"Division(/)\",a/b)\n",
    "print(\"Modulus(%)\",a%b)\n",
    "print(\"Exponent(**)\",a**b)\n",
    "print(\"FloorDivision(//)\",a//b)\n",
    "print(\"\\n\")\n",
    "print(\"ASSIGNMENT OPERATORS\")\n",
    "c=10\n",
    "print(\"assignment operator(=)\",c)\n",
    "print(\"\\n\")\n",
    "print(\"COMPARISON OPEARTORS\")\n",
    "print(\"Equal to (==):\",a==b)\n",
    "print(\"Not Equal to(!=) :\",a!=b)\n",
    "print(\"Less than (<):\",a<b)\n",
    "print(\"Greater than (>):\",a>b)\n",
    "print(\"Less than or equal to(<=) :\",a<=b)\n",
    "print(\"Greater than or equal to(>=) :\",a>=b)\n",
    "print(\"\\n\")\n",
    "print(\"LOGICAL OPEARTORS\")\n",
    "print(\"and operator(and)\",a and b)\n",
    "print(\"or operator (or)\",a or b)\n",
    "print(\"not operator(not)\",not a)\n",
    "print(\"\\n\")\n",
    "print(\"IDENTITY OPEARTORS\")\n",
    "print(\"is :\",a is True)\n",
    "print(\"is not :\",b is not True)\n",
    "print(\"\\n\")\n",
    "print(\"BITWISE OPEARTORS\")\n",
    "print(\"& :\",a&b)\n",
    "print(\"| :\",a|b)\n",
    "print(\"^ :\",a^b)\n",
    "print(\"~ :\",~b)\n",
    "print(\"<< :\",a<<b)\n",
    "print(\">> :\",a>>b)\n"
   ]
  },
  {
   "cell_type": "markdown",
   "metadata": {},
   "source": [
    "### Create list of elements and slice and dice it"
   ]
  },
  {
   "cell_type": "code",
   "execution_count": 4,
   "metadata": {},
   "outputs": [],
   "source": [
    "list=[1,22,32,13,7,52]"
   ]
  },
  {
   "cell_type": "code",
   "execution_count": 6,
   "metadata": {},
   "outputs": [
    {
     "data": {
      "text/plain": [
       "[1, 32, 7]"
      ]
     },
     "execution_count": 6,
     "metadata": {},
     "output_type": "execute_result"
    }
   ],
   "source": [
    "list[0:5]\n",
    "\n"
   ]
  },
  {
   "cell_type": "code",
   "execution_count": 7,
   "metadata": {},
   "outputs": [
    {
     "data": {
      "text/plain": [
       "[1, 22, 32, 13]"
      ]
     },
     "execution_count": 7,
     "metadata": {},
     "output_type": "execute_result"
    }
   ],
   "source": [
    "list[:4]\n"
   ]
  },
  {
   "cell_type": "code",
   "execution_count": 8,
   "metadata": {},
   "outputs": [
    {
     "data": {
      "text/plain": [
       "[1, 22, 32, 13, 7]"
      ]
     },
     "execution_count": 8,
     "metadata": {},
     "output_type": "execute_result"
    }
   ],
   "source": [
    "list[:-1]\n"
   ]
  },
  {
   "cell_type": "code",
   "execution_count": 9,
   "metadata": {},
   "outputs": [
    {
     "data": {
      "text/plain": [
       "[1, 32, 7]"
      ]
     },
     "execution_count": 9,
     "metadata": {},
     "output_type": "execute_result"
    }
   ],
   "source": [
    "list[0:5:2]"
   ]
  },
  {
   "cell_type": "markdown",
   "metadata": {},
   "source": [
    "### . Using while loop accept numbers until sum of numbers is less than 100"
   ]
  },
  {
   "cell_type": "code",
   "execution_count": 18,
   "metadata": {},
   "outputs": [
    {
     "name": "stdout",
     "output_type": "stream",
     "text": [
      "enter the number30\n",
      "enter the number40\n",
      "enter the number20\n",
      "enter the number12\n",
      "102\n"
     ]
    }
   ],
   "source": [
    "sum=0\n",
    "diff=0\n",
    "\n",
    "while sum<100:\n",
    "    i=int(input(\"enter the number\"))\n",
    "    diff=100-sum;\n",
    "    if diff<0:\n",
    "        break;\n",
    "    else:\n",
    "        sum=sum+i;\n",
    "   \n",
    "    \n",
    "print(sum)"
   ]
  },
  {
   "cell_type": "markdown",
   "metadata": {},
   "source": [
    "### Write a python program Read & write Excel files"
   ]
  },
  {
   "cell_type": "code",
   "execution_count": 19,
   "metadata": {},
   "outputs": [
    {
     "name": "stdout",
     "output_type": "stream",
     "text": [
      "Hi,This python demo file\n"
     ]
    }
   ],
   "source": [
    "f = open(\"demofile.txt\", \"r\")\n",
    "print(f.read())"
   ]
  },
  {
   "cell_type": "code",
   "execution_count": 20,
   "metadata": {},
   "outputs": [],
   "source": [
    "f = open(\"demofile3.txt\", \"w\")\n",
    "f.write(\"Woops! I have deleted the content!\")\n",
    "f.close()"
   ]
  },
  {
   "cell_type": "markdown",
   "metadata": {},
   "source": [
    "### Create a 3x3 matrix with values ranging from 2 to 10 using numpy"
   ]
  },
  {
   "cell_type": "code",
   "execution_count": 22,
   "metadata": {},
   "outputs": [
    {
     "name": "stdout",
     "output_type": "stream",
     "text": [
      "[[ 2  3  4]\n",
      " [ 5  6  7]\n",
      " [ 8  9 10]]\n"
     ]
    }
   ],
   "source": [
    "import numpy as np\n",
    "matrix =  np.arange(2, 11).reshape(3,3)\n",
    "print(matrix)"
   ]
  },
  {
   "cell_type": "markdown",
   "metadata": {},
   "source": [
    "### Write a Python program to convert a list of numeric value into a one-dimensional NumPy array"
   ]
  },
  {
   "cell_type": "code",
   "execution_count": null,
   "metadata": {},
   "outputs": [],
   "source": [
    "import numpy as np\n",
    "\n",
    "list1=input(\"enter list values\")\n",
    "\n",
    "\n",
    "print(list1)\n"
   ]
  },
  {
   "cell_type": "code",
   "execution_count": null,
   "metadata": {},
   "outputs": [],
   "source": [
    "mat=np.array(list1)\n",
    "print(mat)"
   ]
  },
  {
   "cell_type": "markdown",
   "metadata": {},
   "source": [
    "### Write a Python program to create a null vector of size 10 and update sixth value to 11"
   ]
  },
  {
   "cell_type": "code",
   "execution_count": null,
   "metadata": {},
   "outputs": [],
   "source": [
    "import numpy as np"
   ]
  },
  {
   "cell_type": "code",
   "execution_count": null,
   "metadata": {},
   "outputs": [],
   "source": [
    "vc=np.zeros(10)"
   ]
  },
  {
   "cell_type": "code",
   "execution_count": null,
   "metadata": {},
   "outputs": [],
   "source": [
    "vc"
   ]
  },
  {
   "cell_type": "code",
   "execution_count": null,
   "metadata": {},
   "outputs": [],
   "source": [
    "vc[6]=11"
   ]
  },
  {
   "cell_type": "code",
   "execution_count": null,
   "metadata": {},
   "outputs": [],
   "source": [
    "print(vc)"
   ]
  },
  {
   "cell_type": "code",
   "execution_count": null,
   "metadata": {},
   "outputs": [],
   "source": []
  }
 ],
 "metadata": {
  "kernelspec": {
   "display_name": "Python 3",
   "language": "python",
   "name": "python3"
  },
  "language_info": {
   "codemirror_mode": {
    "name": "ipython",
    "version": 3
   },
   "file_extension": ".py",
   "mimetype": "text/x-python",
   "name": "python",
   "nbconvert_exporter": "python",
   "pygments_lexer": "ipython3",
   "version": "3.8.5"
  }
 },
 "nbformat": 4,
 "nbformat_minor": 4
}
